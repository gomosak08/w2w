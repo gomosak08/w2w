{
 "cells": [
  {
   "cell_type": "code",
   "execution_count": 2,
   "id": "96ddd7ce-a255-4930-8a55-4660158f3ed8",
   "metadata": {},
   "outputs": [
    {
     "name": "stdout",
     "output_type": "stream",
     "text": [
      "Collecting rasterio\n",
      "  Downloading rasterio-1.4.1-cp312-cp312-manylinux_2_17_x86_64.manylinux2014_x86_64.whl.metadata (9.1 kB)\n",
      "Collecting affine (from rasterio)\n",
      "  Downloading affine-2.4.0-py3-none-any.whl.metadata (4.0 kB)\n",
      "Requirement already satisfied: attrs in /home/gomosak/cnf/lib/python3.12/site-packages (from rasterio) (24.2.0)\n",
      "Requirement already satisfied: certifi in /home/gomosak/cnf/lib/python3.12/site-packages (from rasterio) (2024.7.4)\n",
      "Requirement already satisfied: click>=4.0 in /home/gomosak/cnf/lib/python3.12/site-packages (from rasterio) (8.1.7)\n",
      "Collecting cligj>=0.5 (from rasterio)\n",
      "  Downloading cligj-0.7.2-py3-none-any.whl.metadata (5.0 kB)\n",
      "Requirement already satisfied: numpy>=1.24 in /home/gomosak/cnf/lib/python3.12/site-packages (from rasterio) (2.0.1)\n",
      "Collecting click-plugins (from rasterio)\n",
      "  Downloading click_plugins-1.1.1-py2.py3-none-any.whl.metadata (6.4 kB)\n",
      "Requirement already satisfied: pyparsing in /home/gomosak/cnf/lib/python3.12/site-packages (from rasterio) (3.1.2)\n",
      "Downloading rasterio-1.4.1-cp312-cp312-manylinux_2_17_x86_64.manylinux2014_x86_64.whl (22.2 MB)\n",
      "\u001b[2K   \u001b[38;2;114;156;31m━━━━━━━━━━━━━━━━━━━━━━━━━━━━━━━━━━━━━━━━\u001b[0m \u001b[32m22.2/22.2 MB\u001b[0m \u001b[31m11.0 MB/s\u001b[0m eta \u001b[36m0:00:00\u001b[0mm eta \u001b[36m0:00:01\u001b[0m[36m0:00:01\u001b[0m\n",
      "\u001b[?25hDownloading cligj-0.7.2-py3-none-any.whl (7.1 kB)\n",
      "Downloading affine-2.4.0-py3-none-any.whl (15 kB)\n",
      "Downloading click_plugins-1.1.1-py2.py3-none-any.whl (7.5 kB)\n",
      "Installing collected packages: cligj, click-plugins, affine, rasterio\n",
      "Successfully installed affine-2.4.0 click-plugins-1.1.1 cligj-0.7.2 rasterio-1.4.1\n",
      "Note: you may need to restart the kernel to use updated packages.\n"
     ]
    }
   ],
   "source": [
    "pip install rasterio\n"
   ]
  },
  {
   "cell_type": "code",
   "execution_count": 3,
   "id": "dd927bb9-80db-4824-8898-d724083e4af6",
   "metadata": {},
   "outputs": [],
   "source": [
    "import numpy as np\n",
    "from PIL import Image as im\n",
    "\n",
    "from matplotlib import pyplot as plt\n",
    "\n",
    "import rasterio"
   ]
  },
  {
   "cell_type": "code",
   "execution_count": 4,
   "id": "0264d13a-a2be-4c36-b6f8-220101699503",
   "metadata": {},
   "outputs": [],
   "source": [
    "mask_pat = \"mascara320.tif\""
   ]
  },
  {
   "cell_type": "code",
   "execution_count": 5,
   "id": "03658b75-7652-404b-9794-22ca73275720",
   "metadata": {},
   "outputs": [
    {
     "name": "stdout",
     "output_type": "stream",
     "text": [
      "(1, 2144, 2939)\n"
     ]
    },
    {
     "data": {
      "text/plain": [
       "(2144, 2939)"
      ]
     },
     "execution_count": 5,
     "metadata": {},
     "output_type": "execute_result"
    }
   ],
   "source": [
    "# Open the image\n",
    "with rasterio.open(mask_pat) as src:\n",
    "    # Read the image bands into a NumPy array\n",
    "    mask_array = src.read()\n",
    "\n",
    "print(mask_array.shape)\n",
    "mascara = np.squeeze(mask_array)\n",
    "mascara.shape"
   ]
  },
  {
   "cell_type": "code",
   "execution_count": 6,
   "id": "f2b3696b-0322-40ff-af08-99b25187ab98",
   "metadata": {},
   "outputs": [
    {
     "name": "stdout",
     "output_type": "stream",
     "text": [
      "(11, 2144, 2939)\n"
     ]
    }
   ],
   "source": [
    "data_path = \"data320.tif\"\n",
    "with rasterio.open(data_path) as src:\n",
    "    # Read the image bands into a NumPy array\n",
    "    image_array = src.read()\n",
    "\n",
    "print(image_array.shape)"
   ]
  },
  {
   "cell_type": "code",
   "execution_count": 7,
   "id": "dcb1e14b-68d5-4e19-858c-8943c6b7bdf1",
   "metadata": {},
   "outputs": [],
   "source": [
    "def get_values(x,y,px,py):\n",
    "    rows = x//px\n",
    "    cols = y//py\n",
    "\n",
    "    diffx = x-(px*rows)\n",
    "    diffy = y-(py*cols)\n",
    "\n",
    "    return diffx/2,diffy/2, rows,cols"
   ]
  },
  {
   "cell_type": "code",
   "execution_count": 8,
   "id": "4375c5ca-383e-4b82-b0ca-de09bfd4a8ae",
   "metadata": {},
   "outputs": [
    {
     "data": {
      "text/plain": [
       "(256.0, 29.5, 3, 6)"
      ]
     },
     "execution_count": 8,
     "metadata": {},
     "output_type": "execute_result"
    }
   ],
   "source": [
    "get_values(2144,2939,544,480)"
   ]
  },
  {
   "cell_type": "code",
   "execution_count": 9,
   "id": "e9a7b702-4af4-4a52-be4d-91ce3f6d9dc3",
   "metadata": {},
   "outputs": [],
   "source": [
    "def divide_image_np(image, rows, cols):\n",
    "    \"\"\"\n",
    "    Divides an image into a specified number of rows and columns.\n",
    "\n",
    "    Args:\n",
    "    - image: A NumPy array representing the image.\n",
    "    - rows: The number of rows to divide the image into.\n",
    "    - cols: The number of columns to divide the image into.\n",
    "\n",
    "    Returns:\n",
    "    - A list of NumPy arrays, each representing a sub-image.\n",
    "    \"\"\"\n",
    "    h, w = image[0].shape\n",
    "    #print(h//rows*row,h//rows*(row+1), w//cols*col,w//cols*(col+1))\n",
    "    return np.array([image[:,h//rows*row:h//rows*(row+1), w//cols*col:w//cols*(col+1)] for row in range(rows) for col in range(cols)])\n",
    "\n",
    "\n",
    "def divide_image_masks(image, rows, cols):\n",
    "    h, w = image.shape\n",
    "    #print(h//rows*row,h//rows*(row+1), w//cols*col,w//cols*(col+1))\n",
    "    return np.array([image[h//rows*row:h//rows*(row+1), w//cols*col:w//cols*(col+1)] for row in range(rows) for col in range(cols)])"
   ]
  },
  {
   "cell_type": "code",
   "execution_count": 10,
   "id": "fcabf462-b23d-4e4b-92c7-40f24aba4ed4",
   "metadata": {},
   "outputs": [],
   "source": [
    "image_array = np.nan_to_num(image_array)"
   ]
  },
  {
   "cell_type": "code",
   "execution_count": 11,
   "id": "30969f22-c2a0-425e-906f-9d785925e62f",
   "metadata": {},
   "outputs": [
    {
     "data": {
      "text/plain": [
       "(11, 2144, 2939)"
      ]
     },
     "execution_count": 11,
     "metadata": {},
     "output_type": "execute_result"
    }
   ],
   "source": [
    "image_array.shape\n"
   ]
  },
  {
   "cell_type": "code",
   "execution_count": 12,
   "id": "8c86dded-a0d7-4642-9eb0-90435ee47ed8",
   "metadata": {},
   "outputs": [],
   "source": [
    "mean = np.mean(image_array, axis=(1, 2))  # Averaging over the spatial dimensions\n",
    "std = np.std(image_array, axis=(1, 2))"
   ]
  },
  {
   "cell_type": "code",
   "execution_count": 14,
   "id": "2e0346b8-79ca-444a-961c-ce3fc5a0fffd",
   "metadata": {},
   "outputs": [
    {
     "name": "stdout",
     "output_type": "stream",
     "text": [
      "(1, 2144, 2939)\n"
     ]
    },
    {
     "data": {
      "text/plain": [
       "(2144, 2939)"
      ]
     },
     "execution_count": 14,
     "metadata": {},
     "output_type": "execute_result"
    }
   ],
   "source": [
    "\n",
    "print(mask_array.shape)\n",
    "mascara = np.squeeze(mask_array)\n",
    "mascara.shape"
   ]
  },
  {
   "cell_type": "code",
   "execution_count": 15,
   "id": "69452984-ea6d-439c-9b64-988dcaabed70",
   "metadata": {},
   "outputs": [],
   "source": [
    "mascara[mascara == -5] = 0\n",
    "\n",
    "mascara[mascara == 2] = 1\n",
    "mascara[mascara == 3] = 1\n",
    "mascara[mascara == 6] = 1\n",
    "mascara[mascara == 12] = 1\n",
    "\n",
    "\n",
    "\n",
    "mascara[mascara == 12] = 1\n",
    "mascara[mascara == 28] = 3\n",
    "\n",
    "mascara[mascara == 29] = 2\n",
    "mascara[mascara == 30] = 5\n",
    "mascara[mascara == 31] = 6\n",
    "mascara[mascara == 32] = 4\n",
    "mascara[mascara == 280] = 3\n",
    "\n",
    "mascara[mascara == 14] = 1\n",
    "mascara[mascara == 21] = 3\n",
    "mascara[mascara == 23] = 3\n",
    "mascara[mascara == 25] = 3\n",
    "mascara[mascara == 26] = 3\n",
    "mascara[mascara == 27] = 3\n",
    "\n",
    "mascara[mascara == 290] = 2"
   ]
  },
  {
   "cell_type": "code",
   "execution_count": 16,
   "id": "9af2b601-71c9-452e-8a1b-12e767997639",
   "metadata": {},
   "outputs": [
    {
     "data": {
      "text/plain": [
       "(1632, 2880)"
      ]
     },
     "execution_count": 16,
     "metadata": {},
     "output_type": "execute_result"
    }
   ],
   "source": [
    "cutted_mask = mascara[256:-256,29:-30]\n",
    "cutted_mask.shape"
   ]
  },
  {
   "cell_type": "code",
   "execution_count": 17,
   "id": "0ec1b608-5a69-4380-8295-dcca296b7100",
   "metadata": {},
   "outputs": [
    {
     "data": {
      "text/plain": [
       "(11, 1632, 2880)"
      ]
     },
     "execution_count": 17,
     "metadata": {},
     "output_type": "execute_result"
    }
   ],
   "source": [
    "cutted_matriz = image_array[:,256:-256,29:-30]\n",
    "cutted_matriz.shape"
   ]
  },
  {
   "cell_type": "code",
   "execution_count": 21,
   "id": "ea8e3708-977c-46d9-b6be-b751358d05bd",
   "metadata": {},
   "outputs": [
    {
     "data": {
      "text/plain": [
       "(18, 11, 544, 480)"
      ]
     },
     "execution_count": 21,
     "metadata": {},
     "output_type": "execute_result"
    }
   ],
   "source": [
    "images = divide_image_np(cutted_matriz,3,6)\n",
    "images.shape"
   ]
  },
  {
   "cell_type": "code",
   "execution_count": 22,
   "id": "1f7e30bf-0252-4053-af13-af5e8d9efe88",
   "metadata": {},
   "outputs": [
    {
     "data": {
      "text/plain": [
       "(18, 544, 480)"
      ]
     },
     "execution_count": 22,
     "metadata": {},
     "output_type": "execute_result"
    }
   ],
   "source": [
    "mascara_img =  divide_image_masks(cutted_mask,3,6)\n",
    "mascara_img.shape"
   ]
  },
  {
   "cell_type": "code",
   "execution_count": 26,
   "id": "616894a9-37c7-4162-990d-309bb719eb08",
   "metadata": {},
   "outputs": [
    {
     "data": {
      "image/png": "[encoded data removed]",
      "text/plain": [
       "<Figure size 640x480 with 1 Axes>"
      ]
     },
     "metadata": {},
     "output_type": "display_data"
    }
   ],
   "source": [
    "fig, ax = plt.subplots()\n",
    "\n",
    "# Plottear la imagen\n",
    "ax.imshow(mascara_img[15], cmap='inferno')  # Puedes cambiar el mapa de colores según tu necesidad\n",
    "\n",
    "# Configurar etiquetas y título (opcional)\n",
    "ax.set_xlabel('Eje X')\n",
    "ax.set_ylabel('Eje Y')\n",
    "ax.set_title('Imagen TIFF')\n",
    "\n",
    "\n",
    "# Mostrar la imagen\n",
    "plt.show()"
   ]
  },
  {
   "cell_type": "code",
   "execution_count": 30,
   "id": "bf7ede38-0beb-45e5-95cd-8f9cc6645eb4",
   "metadata": {},
   "outputs": [],
   "source": [
    "for i,j in enumerate(mascara_img):\n",
    "  if not np.all(j == 0):\n",
    "    array = j.astype(np.float32)\n",
    "    np.save(f'masks/{i}.npy', array)\n",
    "    #np.save(f'/home/gomosak/conafor/npy_mask_500/{i+longitud}.npy', array)\n",
    "      \n",
    "      \n",
    "    img = images[i]\n",
    "    img = img.astype(np.float32)\n",
    "    np.save(f'data/{i}.npy', img)"
   ]
  },
  {
   "cell_type": "code",
   "execution_count": null,
   "id": "8a131c84-d00c-492e-ad1e-bd6ae573f596",
   "metadata": {},
   "outputs": [],
   "source": []
  }
 ],
 "metadata": {
  "kernelspec": {
   "display_name": "Conafor",
   "language": "python",
   "name": "cnf"
  },
  "language_info": {
   "codemirror_mode": {
    "name": "ipython",
    "version": 3
   },
   "file_extension": ".py",
   "mimetype": "text/x-python",
   "name": "python",
   "nbconvert_exporter": "python",
   "pygments_lexer": "ipython3",
   "version": "3.12.3"
  }
 },
 "nbformat": 4,
 "nbformat_minor": 5
}
